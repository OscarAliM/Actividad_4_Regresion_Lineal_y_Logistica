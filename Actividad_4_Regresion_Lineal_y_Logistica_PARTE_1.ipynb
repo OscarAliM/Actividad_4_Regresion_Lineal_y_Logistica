{
  "cells": [
    {
      "cell_type": "markdown",
      "metadata": {
        "id": "view-in-github",
        "colab_type": "text"
      },
      "source": [
        "<a href=\"https://colab.research.google.com/github/OscarAliM/Actividad_4_Regresion_Lineal_y_Logistica/blob/main/Actividad_4_Regresion_Lineal_y_Logistica_PARTE_1.ipynb\" target=\"_parent\"><img src=\"https://colab.research.google.com/assets/colab-badge.svg\" alt=\"Open In Colab\"/></a>"
      ]
    },
    {
      "cell_type": "code",
      "execution_count": null,
      "metadata": {
        "id": "q_uFcuYRl4GP"
      },
      "outputs": [],
      "source": [
        "#Cargamos librerias\n",
        "import pandas as pd\n",
        "import numpy as np\n",
        "import matplotlib.pyplot as plt\n",
        "import scipy.special as special\n",
        "from scipy.optimize import curve_fit\n",
        "import seaborn as sns\n",
        "from sklearn.metrics import r2_score\n",
        "from sklearn.model_selection import train_test_split\n",
        "from sklearn.preprocessing import StandardScaler"
      ]
    },
    {
      "cell_type": "code",
      "execution_count": null,
      "metadata": {
        "id": "6zMg1lhnokd6"
      },
      "outputs": [],
      "source": [
        "#Cargar archivo csv desde equipo\n",
        "from google.colab import files\n",
        "files.upload()"
      ]
    },
    {
      "cell_type": "code",
      "execution_count": null,
      "metadata": {
        "id": "bg0G_zKAono4"
      },
      "outputs": [],
      "source": [
        "#Cargar archivo .xlsx desde equipo\n",
        "MRetailer=pd.read_excel('microretailer_mit_lift_lab_actualizado.xlsx')"
      ]
    },
    {
      "cell_type": "code",
      "execution_count": null,
      "metadata": {
        "id": "5wnbhx3JopYU",
        "colab": {
          "base_uri": "https://localhost:8080/"
        },
        "outputId": "23f503e7-ea29-446c-da74-b5ae198fdbf3"
      },
      "outputs": [
        {
          "output_type": "stream",
          "name": "stdout",
          "text": [
            "<class 'pandas.core.frame.DataFrame'>\n",
            "RangeIndex: 330 entries, 0 to 329\n",
            "Columns: 106 entries, _record_id to 235_email\n",
            "dtypes: float64(20), int64(2), object(84)\n",
            "memory usage: 273.4+ KB\n"
          ]
        }
      ],
      "source": [
        "#Obtenemos información del archivo\n",
        "MRetailer.info()"
      ]
    },
    {
      "cell_type": "code",
      "execution_count": null,
      "metadata": {
        "id": "916TKTdLoqiW"
      },
      "outputs": [],
      "source": [
        "#Filtro por columnas no consecutivas\n",
        "#filtro=MRetailer.iloc[:,[13,14,16,21,22,29,31,33,41,42,43,44,45,49,51,56,57,58,59,60,78,90]] #todo el archivo"
      ]
    },
    {
      "cell_type": "code",
      "execution_count": null,
      "metadata": {
        "id": "3xTXcIxEoxea",
        "colab": {
          "base_uri": "https://localhost:8080/"
        },
        "outputId": "4823c363-2c2b-4484-8e1b-eb117ac7f74e"
      },
      "outputs": [
        {
          "output_type": "execute_result",
          "data": {
            "text/plain": [
              "_record_id                                0\n",
              "_title                                    0\n",
              "_server_updated_at                        0\n",
              "_updated_by                               0\n",
              "_geometry                                 0\n",
              "                                       ... \n",
              "234_willingness_participate_workshop    125\n",
              "318_shopkeeper_name                     249\n",
              "319_shopkeepers_last_name               252\n",
              "236_whatsapp                            255\n",
              "235_email                               283\n",
              "Length: 106, dtype: int64"
            ]
          },
          "metadata": {},
          "execution_count": 29
        }
      ],
      "source": [
        "#Identificar valores nulos por columna\n",
        "valores_nulos=MRetailer.isnull().sum()\n",
        "valores_nulos"
      ]
    },
    {
      "cell_type": "markdown",
      "metadata": {
        "id": "LXnB2pbwozIc"
      },
      "source": [
        "**Reemplazar Valores Nulos**"
      ]
    },
    {
      "cell_type": "code",
      "execution_count": null,
      "metadata": {
        "id": "zXKvoq_nozZn"
      },
      "outputs": [],
      "source": [
        "#Realizamos una copia del dataframe\n",
        "Retailers_Nulos=MRetailer.copy()\n",
        "# Reemplazamos valores nulos\n",
        "Retailers_Nulos=Retailers_Nulos.fillna(method='bfill')\n",
        "Retailers_Nulos"
      ]
    },
    {
      "cell_type": "code",
      "execution_count": null,
      "metadata": {
        "id": "DA6yH6puo1hJ",
        "colab": {
          "base_uri": "https://localhost:8080/"
        },
        "outputId": "0dbae421-9963-408e-a049-1bbbe79f5c9d"
      },
      "outputs": [
        {
          "output_type": "execute_result",
          "data": {
            "text/plain": [
              "1583"
            ]
          },
          "metadata": {},
          "execution_count": 31
        }
      ],
      "source": [
        "#Identificar valores nulos de todo el dataframe\n",
        "valores_nulos=Retailers_Nulos.isnull().sum().sum()\n",
        "valores_nulos"
      ]
    },
    {
      "cell_type": "code",
      "execution_count": null,
      "metadata": {
        "id": "UMYmuIoIo5In"
      },
      "outputs": [],
      "source": [
        "#Copia del dataframe para elimnar más valores nulos\n",
        "Retailers_N1=Retailers_Nulos.copy()\n",
        "Retailers_N1=Retailers_Nulos.fillna(method='ffill')\n",
        "Retailers_N1"
      ]
    },
    {
      "cell_type": "code",
      "execution_count": null,
      "metadata": {
        "id": "wfNMhaj7o7XY",
        "colab": {
          "base_uri": "https://localhost:8080/"
        },
        "outputId": "ee35b86f-5b6c-4004-b75c-aba6a2380e71"
      },
      "outputs": [
        {
          "output_type": "execute_result",
          "data": {
            "text/plain": [
              "0"
            ]
          },
          "metadata": {},
          "execution_count": 33
        }
      ],
      "source": [
        "#Identificar valores nulos de todo el dataframe\n",
        "valores_nulos=Retailers_N1.isnull().sum().sum()\n",
        "valores_nulos"
      ]
    },
    {
      "cell_type": "markdown",
      "metadata": {
        "id": "h4S_rGL0o8Cp"
      },
      "source": [
        "**Reemplazar Outliers**"
      ]
    },
    {
      "cell_type": "code",
      "execution_count": null,
      "metadata": {
        "id": "9FxheM_Lo8VL"
      },
      "outputs": [],
      "source": [
        "R_Filtrado=Retailers_N1.copy()"
      ]
    },
    {
      "cell_type": "code",
      "execution_count": null,
      "metadata": {
        "id": "FY2pMviao-0s"
      },
      "outputs": [],
      "source": [
        "#Identificamos las variables no numéricas para eliminar columnas incecesarias de texto\n",
        "R_Filtrado.info(106)"
      ]
    },
    {
      "cell_type": "code",
      "execution_count": null,
      "metadata": {
        "id": "fiwofwjQpC8M"
      },
      "outputs": [],
      "source": [
        "#Filtro para la columna de numéricos\n",
        "filtro1=Retailers_N1.iloc[:,[13,14,16,21,22,29,31,33,41,42,43,44,45,49,51,56,57,58,59,60,78,90]]\n",
        "    #1,2,3,4,5,6,7,8,9,10,11,12,15,17,18,19,20,23,24,25,26,27,28,30,32,34,35,36,37,38,39,40,46,47,48,50,52,53,54,55,61,62,63,64,65,66,67,68,69,70,71,72,73,74,75,76,77,79,80,81,82,83,84,85,86,87,88,89]]"
      ]
    },
    {
      "cell_type": "code",
      "execution_count": null,
      "metadata": {
        "id": "JZFq4df1pDnS"
      },
      "outputs": [],
      "source": [
        "#Método aplicando Cuartiles. Encuentro cuartiles 0.25 y 0.75\n",
        "y=filtro1\n",
        "\n",
        "percentile25=y.quantile(0.25) #Q1\n",
        "percentile75=y.quantile(0.75) #Q3\n",
        "iqr= percentile75 - percentile25\n",
        "\n",
        "Limite_Superior_iqr= percentile75 + 1.5*iqr\n",
        "Limite_Inferior_iqr= percentile25 - 1.5*iqr\n",
        "print(\"Limite superior permitido\", Limite_Superior_iqr)\n",
        "print(\"Limite inferior permitido\", Limite_Inferior_iqr)"
      ]
    },
    {
      "cell_type": "code",
      "execution_count": null,
      "metadata": {
        "id": "vyRa1n4ppHev"
      },
      "outputs": [],
      "source": [
        "#Encontramos Outliers del Dataframe\n",
        "outliers_iqr= Retailers_N1[(y>Limite_Superior_iqr)|(y<Limite_Inferior_iqr)]\n",
        "outliers_iqr"
      ]
    },
    {
      "cell_type": "code",
      "execution_count": null,
      "metadata": {
        "id": "NoETuV09pK-P"
      },
      "outputs": [],
      "source": [
        "#Obtenemos datos limpios del Dataframe\n",
        "data3_iqr= Retailers_N1[(y<=Limite_Superior_iqr)&(y>=Limite_Inferior_iqr)]\n",
        "data3_iqr"
      ]
    },
    {
      "cell_type": "code",
      "execution_count": null,
      "metadata": {
        "id": "YfsjD_VRpM2f"
      },
      "outputs": [],
      "source": [
        "#Corroboramos valores nulos del dataframe LIMPIO\n",
        "valores_nulos=data3_iqr.isnull().sum()\n",
        "valores_nulos"
      ]
    },
    {
      "cell_type": "code",
      "execution_count": null,
      "metadata": {
        "id": "umbLvsvBpO0T"
      },
      "outputs": [],
      "source": [
        "#Reemplazamos valores atípicos (nulos) del dataframe con \"mean\"\n",
        "#Realizamos una copia del dataframe\n",
        "data4_iqr=data3_iqr.copy()\n",
        "data4_iqr=data4_iqr.fillna(round(data3_iqr.mean(),1))\n",
        "data4_iqr"
      ]
    },
    {
      "cell_type": "code",
      "execution_count": null,
      "metadata": {
        "id": "OqSuyG5FpQ3U"
      },
      "outputs": [],
      "source": [
        "#Unimos las columnas\n",
        "Union=Retailers_N1\n",
        "Datos_limpios=pd.concat([Union, filtro1],axis=1)\n",
        "Datos_limpios#concatenar con columna limpia de nulos"
      ]
    },
    {
      "cell_type": "code",
      "execution_count": null,
      "metadata": {
        "id": "JntjJ0ZepRoo"
      },
      "outputs": [],
      "source": [
        "#Corroboramos valores nulos del dataframe LIMPIO\n",
        "valores_nulos=Datos_limpios.isnull().sum()\n",
        "valores_nulos"
      ]
    },
    {
      "cell_type": "code",
      "execution_count": null,
      "metadata": {
        "id": "LMsBMRAQpTUv"
      },
      "outputs": [],
      "source": [
        "#Convertir archivo a csv\n",
        "Datos_limpios.to_csv(\"MicroRetailer_Final.csv\")"
      ]
    },
    {
      "cell_type": "code",
      "execution_count": 47,
      "metadata": {
        "colab": {
          "base_uri": "https://localhost:8080/",
          "height": 17
        },
        "id": "pa1n-ixmpWxN",
        "outputId": "14c1ea9b-428f-4764-fbfc-88632d2a7c2d"
      },
      "outputs": [
        {
          "output_type": "display_data",
          "data": {
            "text/plain": [
              "<IPython.core.display.Javascript object>"
            ],
            "application/javascript": [
              "\n",
              "    async function download(id, filename, size) {\n",
              "      if (!google.colab.kernel.accessAllowed) {\n",
              "        return;\n",
              "      }\n",
              "      const div = document.createElement('div');\n",
              "      const label = document.createElement('label');\n",
              "      label.textContent = `Downloading \"${filename}\": `;\n",
              "      div.appendChild(label);\n",
              "      const progress = document.createElement('progress');\n",
              "      progress.max = size;\n",
              "      div.appendChild(progress);\n",
              "      document.body.appendChild(div);\n",
              "\n",
              "      const buffers = [];\n",
              "      let downloaded = 0;\n",
              "\n",
              "      const channel = await google.colab.kernel.comms.open(id);\n",
              "      // Send a message to notify the kernel that we're ready.\n",
              "      channel.send({})\n",
              "\n",
              "      for await (const message of channel.messages) {\n",
              "        // Send a message to notify the kernel that we're ready.\n",
              "        channel.send({})\n",
              "        if (message.buffers) {\n",
              "          for (const buffer of message.buffers) {\n",
              "            buffers.push(buffer);\n",
              "            downloaded += buffer.byteLength;\n",
              "            progress.value = downloaded;\n",
              "          }\n",
              "        }\n",
              "      }\n",
              "      const blob = new Blob(buffers, {type: 'application/binary'});\n",
              "      const a = document.createElement('a');\n",
              "      a.href = window.URL.createObjectURL(blob);\n",
              "      a.download = filename;\n",
              "      div.appendChild(a);\n",
              "      a.click();\n",
              "      div.remove();\n",
              "    }\n",
              "  "
            ]
          },
          "metadata": {}
        },
        {
          "output_type": "display_data",
          "data": {
            "text/plain": [
              "<IPython.core.display.Javascript object>"
            ],
            "application/javascript": [
              "download(\"download_4ceb6651-fc45-494f-90f8-a045307d5080\", \"MicroRetailer_Final.csv\", 556408)"
            ]
          },
          "metadata": {}
        }
      ],
      "source": [
        "#Descargar archivo en csv\n",
        "from google.colab import files\n",
        "files.download(\"MicroRetailer_Final.csv\")"
      ]
    },
    {
      "cell_type": "markdown",
      "metadata": {
        "id": "fa4aQkiqpYrC"
      },
      "source": [
        "**Casos de Regresión lineal y logística**"
      ]
    },
    {
      "cell_type": "code",
      "execution_count": null,
      "metadata": {
        "id": "wQcKlFWnpY9h"
      },
      "outputs": [],
      "source": [
        "#Cargar archivo csv desde equipo\n",
        "from google.colab import files\n",
        "files.upload()"
      ]
    },
    {
      "cell_type": "code",
      "execution_count": null,
      "metadata": {
        "id": "aYzoXsJ-pbD-"
      },
      "outputs": [],
      "source": [
        "#Cargar archivo .xlsx desde equipo\n",
        "df=pd.read_csv('MicroRetailer_Final.csv')\n",
        "df.head(5)"
      ]
    },
    {
      "cell_type": "markdown",
      "metadata": {
        "id": "MOnmQZNLpdLr"
      },
      "source": [
        "**Regresión lineal 1**"
      ]
    },
    {
      "cell_type": "code",
      "execution_count": null,
      "metadata": {
        "id": "5-cWLJwbpddC"
      },
      "outputs": [],
      "source": [
        "#Se grafican mapas de dispersión\n",
        "from turtle import color\n",
        "sns.scatterplot(x='4_number_permanent_employees_last_year', y='2_current_permanent_employees', color='blue', data=df)\n",
        "sns.scatterplot(x='145_number_direct_competitors', y='2_current_permanent_employees', color='red', data=df)\n",
        "sns.scatterplot(x='24_burnout', y='2_current_permanent_employees', color='yellow', data=df)"
      ]
    },
    {
      "cell_type": "code",
      "execution_count": 51,
      "metadata": {
        "id": "OvSZuNTJpgGl"
      },
      "outputs": [],
      "source": [
        "#Declaramos las variables dependientes e independientes para la regresión lineal\n",
        "Vars_Indep1=df[['4_number_permanent_employees_last_year','145_number_direct_competitors','24_burnout']]\n",
        "Var_Dep1=df['2_current_permanent_employees']"
      ]
    },
    {
      "cell_type": "code",
      "execution_count": 52,
      "metadata": {
        "id": "Eb8rezCjpjYU"
      },
      "outputs": [],
      "source": [
        "#Se define model como la función de regresión lineal\n",
        "from sklearn.linear_model import LinearRegression\n",
        "model= LinearRegression()"
      ]
    },
    {
      "cell_type": "code",
      "execution_count": 53,
      "metadata": {
        "id": "ND4wAY9AplHJ",
        "colab": {
          "base_uri": "https://localhost:8080/"
        },
        "outputId": "caefed59-6a1e-4974-f1e7-78bd911206ba"
      },
      "outputs": [
        {
          "output_type": "execute_result",
          "data": {
            "text/plain": [
              "sklearn.linear_model._base.LinearRegression"
            ]
          },
          "metadata": {},
          "execution_count": 53
        }
      ],
      "source": [
        "#Verificamos la función relacionada al modelo\n",
        "type(model)"
      ]
    },
    {
      "cell_type": "code",
      "execution_count": 54,
      "metadata": {
        "id": "hv6ues-mpnFk",
        "colab": {
          "base_uri": "https://localhost:8080/"
        },
        "outputId": "c28ea017-19f8-47e7-89fe-9c40f01dc4c7"
      },
      "outputs": [
        {
          "output_type": "execute_result",
          "data": {
            "text/plain": [
              "LinearRegression()"
            ]
          },
          "metadata": {},
          "execution_count": 54
        }
      ],
      "source": [
        "#Ajustamos el modelo con las variables antes declaradas\n",
        "model.fit(X=Vars_Indep1, y=Var_Dep1)"
      ]
    },
    {
      "cell_type": "code",
      "execution_count": null,
      "metadata": {
        "id": "rdwt8o3Gpo9z"
      },
      "outputs": [],
      "source": [
        "#Verificamos los coeficientes obtenidos para el modelo ajustado\n",
        "model.__dict__"
      ]
    },
    {
      "cell_type": "code",
      "execution_count": 56,
      "metadata": {
        "id": "pu01JtfFprrF",
        "colab": {
          "base_uri": "https://localhost:8080/"
        },
        "outputId": "659d40c7-fac1-435d-f928-ffa62d1caba5"
      },
      "outputs": [
        {
          "output_type": "execute_result",
          "data": {
            "text/plain": [
              "0.4943913135058958"
            ]
          },
          "metadata": {},
          "execution_count": 56
        }
      ],
      "source": [
        "#Evaluamos la eficiencia del modelo obtenido por medio del coeficiente R2 de determinación\n",
        "model.score(Vars_Indep1,Var_Dep1)"
      ]
    },
    {
      "cell_type": "markdown",
      "metadata": {
        "id": "CDSe1hj2ps5q"
      },
      "source": [
        "**Regresión Logística 1**"
      ]
    },
    {
      "cell_type": "code",
      "execution_count": 57,
      "metadata": {
        "id": "qhCMts6AptMu"
      },
      "outputs": [],
      "source": [
        "#Redefinimos las variables\n",
        "X=Vars_Indep1\n",
        "y=Var_Dep1"
      ]
    },
    {
      "cell_type": "code",
      "execution_count": 58,
      "metadata": {
        "id": "AX3Y49iBpxb1"
      },
      "outputs": [],
      "source": [
        "#Dividimos el conjunto de datos en la parte de entrenamiento y prueba\n",
        "X_train,X_test,y_train,y_test = train_test_split(X,y,test_size=0.3,random_state=None)"
      ]
    },
    {
      "cell_type": "code",
      "execution_count": 59,
      "metadata": {
        "id": "dCA8k14mpz26"
      },
      "outputs": [],
      "source": [
        "#Se escalan todos los datos\n",
        "escalar = StandardScaler()"
      ]
    },
    {
      "cell_type": "code",
      "execution_count": 60,
      "metadata": {
        "id": "DYFdrbGMp2QI"
      },
      "outputs": [],
      "source": [
        "#Para realizar el escalamiento de las variables “X” tanto de entrenamiento como de prueba, utilizaremos fit_transform\n",
        "X_train = escalar.fit_transform(X_train)\n",
        "X_test = escalar.transform(X_test)"
      ]
    },
    {
      "cell_type": "code",
      "execution_count": 61,
      "metadata": {
        "id": "-NCtHe99p4Gb"
      },
      "outputs": [],
      "source": [
        "#Verificamos el algoritmo a utilizar\n",
        "from sklearn.linear_model import LogisticRegression\n",
        "algoritmo = LogisticRegression()"
      ]
    },
    {
      "cell_type": "code",
      "execution_count": 62,
      "metadata": {
        "id": "8iRhb6jop55R",
        "colab": {
          "base_uri": "https://localhost:8080/"
        },
        "outputId": "abb75057-a46b-447f-9211-d4d24a9e1da2"
      },
      "outputs": [
        {
          "output_type": "execute_result",
          "data": {
            "text/plain": [
              "LogisticRegression()"
            ]
          },
          "metadata": {},
          "execution_count": 62
        }
      ],
      "source": [
        "#Entrenamos el modelo\n",
        "algoritmo.fit(X_train , y_train)"
      ]
    },
    {
      "cell_type": "code",
      "execution_count": null,
      "metadata": {
        "id": "10ghcDSZp8Dp"
      },
      "outputs": [],
      "source": [
        "#Realizamos una predicción\n",
        "y_pred = algoritmo.predict(X_test)\n",
        "y_pred"
      ]
    },
    {
      "cell_type": "code",
      "execution_count": null,
      "metadata": {
        "id": "xPeLTe1Sp97F"
      },
      "outputs": [],
      "source": [
        "#Verifico la matriz de Confusión\n",
        "from sklearn.metrics import confusion_matrix\n",
        "matriz = confusion_matrix(y_test, y_pred)\n",
        "print('Matriz de Confusión:')\n",
        "print(matriz)"
      ]
    },
    {
      "cell_type": "code",
      "execution_count": null,
      "metadata": {
        "id": "Jh9liN4kqAx_"
      },
      "outputs": [],
      "source": [
        "#Calculo la precisión del modelo\n",
        "from sklearn.metrics import precision_score\n",
        "\n",
        "precision = precision_score(y_test, y_pred, average=\"weighted\", pos_label=\"yes\")\n",
        "print('Precisión del modelo:')\n",
        "print(precision)"
      ]
    },
    {
      "cell_type": "code",
      "execution_count": 66,
      "metadata": {
        "id": "4626-bYNqDHs",
        "colab": {
          "base_uri": "https://localhost:8080/"
        },
        "outputId": "50f792e0-3364-4004-b9df-fde69cc080aa"
      },
      "outputs": [
        {
          "output_type": "stream",
          "name": "stdout",
          "text": [
            "Exactitud del modelo:\n",
            "0.47474747474747475\n"
          ]
        }
      ],
      "source": [
        "#Calculo la exactitud del modelo\n",
        "from sklearn.metrics import accuracy_score\n",
        "\n",
        "exactitud = accuracy_score(y_test, y_pred)\n",
        "print('Exactitud del modelo:')\n",
        "print(exactitud)"
      ]
    },
    {
      "cell_type": "code",
      "execution_count": 67,
      "metadata": {
        "id": "gwe8ZxZYqFLs",
        "colab": {
          "base_uri": "https://localhost:8080/"
        },
        "outputId": "2d46d94c-1fdc-4ebb-fff0-739aae43cf5f"
      },
      "outputs": [
        {
          "output_type": "stream",
          "name": "stdout",
          "text": [
            "Sensibilidad del modelo:\n",
            "0.47474747474747475\n"
          ]
        },
        {
          "output_type": "stream",
          "name": "stderr",
          "text": [
            "/usr/local/lib/python3.7/dist-packages/sklearn/metrics/_classification.py:1375: UserWarning: Note that pos_label (set to 'yes') is ignored when average != 'binary' (got 'weighted'). You may use labels=[pos_label] to specify a single positive class.\n",
            "  UserWarning,\n"
          ]
        }
      ],
      "source": [
        "#Calculo la sensibilidad del modelo\n",
        "from sklearn.metrics import recall_score\n",
        "\n",
        "sensibilidad = recall_score(y_test, y_pred, average=\"weighted\", pos_label=\"yes\")\n",
        "print('Sensibilidad del modelo:')\n",
        "print(sensibilidad)"
      ]
    }
  ],
  "metadata": {
    "colab": {
      "provenance": [],
      "authorship_tag": "ABX9TyPjs1ZPN/VP8JqDV5WWJ/wM",
      "include_colab_link": true
    },
    "kernelspec": {
      "display_name": "Python 3",
      "name": "python3"
    },
    "language_info": {
      "name": "python"
    }
  },
  "nbformat": 4,
  "nbformat_minor": 0
}